{
  "cells": [
    {
      "cell_type": "code",
      "execution_count": null,
      "metadata": {
        "id": "5cWuWhYIl2T6"
      },
      "outputs": [],
      "source": [
        "\n",
        "\n",
        "# Import necessary libraries\n",
        "import nltk\n",
        "\n",
        "import numpy as np\n",
        "import pandas as pd\n",
        "\n",
        "import matplotlib.pyplot as plt\n",
        "%matplotlib inline\n",
        "import seaborn as sns\n",
        "import re\n",
        "\n",
        "# set plot style\n",
        "sns.set_theme()\n",
        "\n"
      ]
    },
    {
      "cell_type": "code",
      "execution_count": null,
      "metadata": {
        "colab": {
          "base_uri": "https://localhost:8080/"
        },
        "id": "rd5MlFPzpATi",
        "outputId": "e345c709-6710-459e-d0f7-745802e88fd3"
      },
      "outputs": [
        {
          "output_type": "stream",
          "name": "stderr",
          "text": [
            "[nltk_data] Downloading package punkt to /root/nltk_data...\n",
            "[nltk_data]   Unzipping tokenizers/punkt.zip.\n",
            "[nltk_data] Downloading package stopwords to /root/nltk_data...\n",
            "[nltk_data]   Unzipping corpora/stopwords.zip.\n"
          ]
        },
        {
          "output_type": "execute_result",
          "data": {
            "text/plain": [
              "True"
            ]
          },
          "metadata": {},
          "execution_count": 2
        }
      ],
      "source": [
        "nltk.download(['punkt','stopwords'])"
      ]
    },
    {
      "cell_type": "code",
      "execution_count": null,
      "metadata": {
        "id": "PF1ieCphnyLF"
      },
      "outputs": [],
      "source": [
        "from nltk.corpus import stopwords"
      ]
    },
    {
      "cell_type": "code",
      "execution_count": null,
      "metadata": {
        "colab": {
          "base_uri": "https://localhost:8080/"
        },
        "id": "HS4pAHxQo47W",
        "outputId": "ed198930-2c93-4ab3-8da0-47ad85787af6"
      },
      "outputs": [
        {
          "output_type": "stream",
          "name": "stdout",
          "text": [
            "['i', 'me', 'my', 'myself', 'we', 'our', 'ours', 'ourselves', 'you', \"you're\", \"you've\", \"you'll\", \"you'd\", 'your', 'yours', 'yourself', 'yourselves', 'he', 'him', 'his', 'himself', 'she', \"she's\", 'her', 'hers', 'herself', 'it', \"it's\", 'its', 'itself', 'they', 'them', 'their', 'theirs', 'themselves', 'what', 'which', 'who', 'whom', 'this', 'that', \"that'll\", 'these', 'those', 'am', 'is', 'are', 'was', 'were', 'be', 'been', 'being', 'have', 'has', 'had', 'having', 'do', 'does', 'did', 'doing', 'a', 'an', 'the', 'and', 'but', 'if', 'or', 'because', 'as', 'until', 'while', 'of', 'at', 'by', 'for', 'with', 'about', 'against', 'between', 'into', 'through', 'during', 'before', 'after', 'above', 'below', 'to', 'from', 'up', 'down', 'in', 'out', 'on', 'off', 'over', 'under', 'again', 'further', 'then', 'once', 'here', 'there', 'when', 'where', 'why', 'how', 'all', 'any', 'both', 'each', 'few', 'more', 'most', 'other', 'some', 'such', 'no', 'nor', 'not', 'only', 'own', 'same', 'so', 'than', 'too', 'very', 's', 't', 'can', 'will', 'just', 'don', \"don't\", 'should', \"should've\", 'now', 'd', 'll', 'm', 'o', 're', 've', 'y', 'ain', 'aren', \"aren't\", 'couldn', \"couldn't\", 'didn', \"didn't\", 'doesn', \"doesn't\", 'hadn', \"hadn't\", 'hasn', \"hasn't\", 'haven', \"haven't\", 'isn', \"isn't\", 'ma', 'mightn', \"mightn't\", 'mustn', \"mustn't\", 'needn', \"needn't\", 'shan', \"shan't\", 'shouldn', \"shouldn't\", 'wasn', \"wasn't\", 'weren', \"weren't\", 'won', \"won't\", 'wouldn', \"wouldn't\"]\n"
          ]
        }
      ],
      "source": [
        "# Get the list of English stop words\n",
        "stopwords_list = stopwords.words('english')\n",
        "print(stopwords_list)\n",
        "\n"
      ]
    },
    {
      "cell_type": "code",
      "execution_count": null,
      "metadata": {
        "colab": {
          "base_uri": "https://localhost:8080/",
          "height": 206
        },
        "id": "uvw8kelFpQ2m",
        "outputId": "49c91352-6fa5-4459-d473-9cd598331985"
      },
      "outputs": [
        {
          "output_type": "execute_result",
          "data": {
            "text/plain": [
              "   type                                              posts\n",
              "0  INFJ  'http://www.youtube.com/watch?v=qsXHcwe3krw|||...\n",
              "1  ENTP  'I'm finding the lack of me in these posts ver...\n",
              "2  INTP  'Good one  _____   https://www.youtube.com/wat...\n",
              "3  INTJ  'Dear INTP,   I enjoyed our conversation the o...\n",
              "4  ENTJ  'You're fired.|||That's another silly misconce..."
            ],
            "text/html": [
              "\n",
              "  <div id=\"df-f75f94ec-1bbc-43e8-b047-95714b193323\" class=\"colab-df-container\">\n",
              "    <div>\n",
              "<style scoped>\n",
              "    .dataframe tbody tr th:only-of-type {\n",
              "        vertical-align: middle;\n",
              "    }\n",
              "\n",
              "    .dataframe tbody tr th {\n",
              "        vertical-align: top;\n",
              "    }\n",
              "\n",
              "    .dataframe thead th {\n",
              "        text-align: right;\n",
              "    }\n",
              "</style>\n",
              "<table border=\"1\" class=\"dataframe\">\n",
              "  <thead>\n",
              "    <tr style=\"text-align: right;\">\n",
              "      <th></th>\n",
              "      <th>type</th>\n",
              "      <th>posts</th>\n",
              "    </tr>\n",
              "  </thead>\n",
              "  <tbody>\n",
              "    <tr>\n",
              "      <th>0</th>\n",
              "      <td>INFJ</td>\n",
              "      <td>'http://www.youtube.com/watch?v=qsXHcwe3krw|||...</td>\n",
              "    </tr>\n",
              "    <tr>\n",
              "      <th>1</th>\n",
              "      <td>ENTP</td>\n",
              "      <td>'I'm finding the lack of me in these posts ver...</td>\n",
              "    </tr>\n",
              "    <tr>\n",
              "      <th>2</th>\n",
              "      <td>INTP</td>\n",
              "      <td>'Good one  _____   https://www.youtube.com/wat...</td>\n",
              "    </tr>\n",
              "    <tr>\n",
              "      <th>3</th>\n",
              "      <td>INTJ</td>\n",
              "      <td>'Dear INTP,   I enjoyed our conversation the o...</td>\n",
              "    </tr>\n",
              "    <tr>\n",
              "      <th>4</th>\n",
              "      <td>ENTJ</td>\n",
              "      <td>'You're fired.|||That's another silly misconce...</td>\n",
              "    </tr>\n",
              "  </tbody>\n",
              "</table>\n",
              "</div>\n",
              "    <div class=\"colab-df-buttons\">\n",
              "\n",
              "  <div class=\"colab-df-container\">\n",
              "    <button class=\"colab-df-convert\" onclick=\"convertToInteractive('df-f75f94ec-1bbc-43e8-b047-95714b193323')\"\n",
              "            title=\"Convert this dataframe to an interactive table.\"\n",
              "            style=\"display:none;\">\n",
              "\n",
              "  <svg xmlns=\"http://www.w3.org/2000/svg\" height=\"24px\" viewBox=\"0 -960 960 960\">\n",
              "    <path d=\"M120-120v-720h720v720H120Zm60-500h600v-160H180v160Zm220 220h160v-160H400v160Zm0 220h160v-160H400v160ZM180-400h160v-160H180v160Zm440 0h160v-160H620v160ZM180-180h160v-160H180v160Zm440 0h160v-160H620v160Z\"/>\n",
              "  </svg>\n",
              "    </button>\n",
              "\n",
              "  <style>\n",
              "    .colab-df-container {\n",
              "      display:flex;\n",
              "      gap: 12px;\n",
              "    }\n",
              "\n",
              "    .colab-df-convert {\n",
              "      background-color: #E8F0FE;\n",
              "      border: none;\n",
              "      border-radius: 50%;\n",
              "      cursor: pointer;\n",
              "      display: none;\n",
              "      fill: #1967D2;\n",
              "      height: 32px;\n",
              "      padding: 0 0 0 0;\n",
              "      width: 32px;\n",
              "    }\n",
              "\n",
              "    .colab-df-convert:hover {\n",
              "      background-color: #E2EBFA;\n",
              "      box-shadow: 0px 1px 2px rgba(60, 64, 67, 0.3), 0px 1px 3px 1px rgba(60, 64, 67, 0.15);\n",
              "      fill: #174EA6;\n",
              "    }\n",
              "\n",
              "    .colab-df-buttons div {\n",
              "      margin-bottom: 4px;\n",
              "    }\n",
              "\n",
              "    [theme=dark] .colab-df-convert {\n",
              "      background-color: #3B4455;\n",
              "      fill: #D2E3FC;\n",
              "    }\n",
              "\n",
              "    [theme=dark] .colab-df-convert:hover {\n",
              "      background-color: #434B5C;\n",
              "      box-shadow: 0px 1px 3px 1px rgba(0, 0, 0, 0.15);\n",
              "      filter: drop-shadow(0px 1px 2px rgba(0, 0, 0, 0.3));\n",
              "      fill: #FFFFFF;\n",
              "    }\n",
              "  </style>\n",
              "\n",
              "    <script>\n",
              "      const buttonEl =\n",
              "        document.querySelector('#df-f75f94ec-1bbc-43e8-b047-95714b193323 button.colab-df-convert');\n",
              "      buttonEl.style.display =\n",
              "        google.colab.kernel.accessAllowed ? 'block' : 'none';\n",
              "\n",
              "      async function convertToInteractive(key) {\n",
              "        const element = document.querySelector('#df-f75f94ec-1bbc-43e8-b047-95714b193323');\n",
              "        const dataTable =\n",
              "          await google.colab.kernel.invokeFunction('convertToInteractive',\n",
              "                                                    [key], {});\n",
              "        if (!dataTable) return;\n",
              "\n",
              "        const docLinkHtml = 'Like what you see? Visit the ' +\n",
              "          '<a target=\"_blank\" href=https://colab.research.google.com/notebooks/data_table.ipynb>data table notebook</a>'\n",
              "          + ' to learn more about interactive tables.';\n",
              "        element.innerHTML = '';\n",
              "        dataTable['output_type'] = 'display_data';\n",
              "        await google.colab.output.renderOutput(dataTable, element);\n",
              "        const docLink = document.createElement('div');\n",
              "        docLink.innerHTML = docLinkHtml;\n",
              "        element.appendChild(docLink);\n",
              "      }\n",
              "    </script>\n",
              "  </div>\n",
              "\n",
              "\n",
              "<div id=\"df-fc0a4930-0937-479d-be6a-8478fdaec473\">\n",
              "  <button class=\"colab-df-quickchart\" onclick=\"quickchart('df-fc0a4930-0937-479d-be6a-8478fdaec473')\"\n",
              "            title=\"Suggest charts\"\n",
              "            style=\"display:none;\">\n",
              "\n",
              "<svg xmlns=\"http://www.w3.org/2000/svg\" height=\"24px\"viewBox=\"0 0 24 24\"\n",
              "     width=\"24px\">\n",
              "    <g>\n",
              "        <path d=\"M19 3H5c-1.1 0-2 .9-2 2v14c0 1.1.9 2 2 2h14c1.1 0 2-.9 2-2V5c0-1.1-.9-2-2-2zM9 17H7v-7h2v7zm4 0h-2V7h2v10zm4 0h-2v-4h2v4z\"/>\n",
              "    </g>\n",
              "</svg>\n",
              "  </button>\n",
              "\n",
              "<style>\n",
              "  .colab-df-quickchart {\n",
              "      --bg-color: #E8F0FE;\n",
              "      --fill-color: #1967D2;\n",
              "      --hover-bg-color: #E2EBFA;\n",
              "      --hover-fill-color: #174EA6;\n",
              "      --disabled-fill-color: #AAA;\n",
              "      --disabled-bg-color: #DDD;\n",
              "  }\n",
              "\n",
              "  [theme=dark] .colab-df-quickchart {\n",
              "      --bg-color: #3B4455;\n",
              "      --fill-color: #D2E3FC;\n",
              "      --hover-bg-color: #434B5C;\n",
              "      --hover-fill-color: #FFFFFF;\n",
              "      --disabled-bg-color: #3B4455;\n",
              "      --disabled-fill-color: #666;\n",
              "  }\n",
              "\n",
              "  .colab-df-quickchart {\n",
              "    background-color: var(--bg-color);\n",
              "    border: none;\n",
              "    border-radius: 50%;\n",
              "    cursor: pointer;\n",
              "    display: none;\n",
              "    fill: var(--fill-color);\n",
              "    height: 32px;\n",
              "    padding: 0;\n",
              "    width: 32px;\n",
              "  }\n",
              "\n",
              "  .colab-df-quickchart:hover {\n",
              "    background-color: var(--hover-bg-color);\n",
              "    box-shadow: 0 1px 2px rgba(60, 64, 67, 0.3), 0 1px 3px 1px rgba(60, 64, 67, 0.15);\n",
              "    fill: var(--button-hover-fill-color);\n",
              "  }\n",
              "\n",
              "  .colab-df-quickchart-complete:disabled,\n",
              "  .colab-df-quickchart-complete:disabled:hover {\n",
              "    background-color: var(--disabled-bg-color);\n",
              "    fill: var(--disabled-fill-color);\n",
              "    box-shadow: none;\n",
              "  }\n",
              "\n",
              "  .colab-df-spinner {\n",
              "    border: 2px solid var(--fill-color);\n",
              "    border-color: transparent;\n",
              "    border-bottom-color: var(--fill-color);\n",
              "    animation:\n",
              "      spin 1s steps(1) infinite;\n",
              "  }\n",
              "\n",
              "  @keyframes spin {\n",
              "    0% {\n",
              "      border-color: transparent;\n",
              "      border-bottom-color: var(--fill-color);\n",
              "      border-left-color: var(--fill-color);\n",
              "    }\n",
              "    20% {\n",
              "      border-color: transparent;\n",
              "      border-left-color: var(--fill-color);\n",
              "      border-top-color: var(--fill-color);\n",
              "    }\n",
              "    30% {\n",
              "      border-color: transparent;\n",
              "      border-left-color: var(--fill-color);\n",
              "      border-top-color: var(--fill-color);\n",
              "      border-right-color: var(--fill-color);\n",
              "    }\n",
              "    40% {\n",
              "      border-color: transparent;\n",
              "      border-right-color: var(--fill-color);\n",
              "      border-top-color: var(--fill-color);\n",
              "    }\n",
              "    60% {\n",
              "      border-color: transparent;\n",
              "      border-right-color: var(--fill-color);\n",
              "    }\n",
              "    80% {\n",
              "      border-color: transparent;\n",
              "      border-right-color: var(--fill-color);\n",
              "      border-bottom-color: var(--fill-color);\n",
              "    }\n",
              "    90% {\n",
              "      border-color: transparent;\n",
              "      border-bottom-color: var(--fill-color);\n",
              "    }\n",
              "  }\n",
              "</style>\n",
              "\n",
              "  <script>\n",
              "    async function quickchart(key) {\n",
              "      const quickchartButtonEl =\n",
              "        document.querySelector('#' + key + ' button');\n",
              "      quickchartButtonEl.disabled = true;  // To prevent multiple clicks.\n",
              "      quickchartButtonEl.classList.add('colab-df-spinner');\n",
              "      try {\n",
              "        const charts = await google.colab.kernel.invokeFunction(\n",
              "            'suggestCharts', [key], {});\n",
              "      } catch (error) {\n",
              "        console.error('Error during call to suggestCharts:', error);\n",
              "      }\n",
              "      quickchartButtonEl.classList.remove('colab-df-spinner');\n",
              "      quickchartButtonEl.classList.add('colab-df-quickchart-complete');\n",
              "    }\n",
              "    (() => {\n",
              "      let quickchartButtonEl =\n",
              "        document.querySelector('#df-fc0a4930-0937-479d-be6a-8478fdaec473 button');\n",
              "      quickchartButtonEl.style.display =\n",
              "        google.colab.kernel.accessAllowed ? 'block' : 'none';\n",
              "    })();\n",
              "  </script>\n",
              "</div>\n",
              "\n",
              "    </div>\n",
              "  </div>\n"
            ],
            "application/vnd.google.colaboratory.intrinsic+json": {
              "type": "dataframe",
              "variable_name": "mbti",
              "summary": "{\n  \"name\": \"mbti\",\n  \"rows\": 6506,\n  \"fields\": [\n    {\n      \"column\": \"type\",\n      \"properties\": {\n        \"dtype\": \"category\",\n        \"num_unique_values\": 16,\n        \"samples\": [\n          \"INFJ\",\n          \"ENTP\",\n          \"ENFJ\"\n        ],\n        \"semantic_type\": \"\",\n        \"description\": \"\"\n      }\n    },\n    {\n      \"column\": \"posts\",\n      \"properties\": {\n        \"dtype\": \"string\",\n        \"num_unique_values\": 6506,\n        \"samples\": [\n          \"'I was was with my ISTJ ex-husband for 14 years.  We rarely argued. He was and still is very reliable, trustworthy, dependable and caring.   We drifted apart because there was a lack of fun,...|||0%    -   It says I should be vigilant about people with psychopathic traits who might take advantage.  I guess when I was younger, I did assume the best and it was easy for certain individuals to...|||I think that amongst XXFJs, particularly INFJs and ISFJs, there's an increased tendency to want to help and make others happy etc.  I certainly feel that pull.  We've just got to be careful that...|||I'm scatty and often don't notice my surroundings because I'm in my own world.  I put something down, like an umbrella, then walk off without it.  I might be engrossed in something at work, eg a...|||I have two daughters: one is  ESFJ and one is ENFJ.  Their father (my ex-husband) is ISTJ.  So it's definitely possible for two introverts to produce extraverts!|||I think if you are the one doing most of the 'giving' in the relationship, and spending lots of time trying to make your SO happy (whilst not demanding the same in return) you are more likely to be...|||Ok, but maybe it's just the way they answered the question in the survey.  Like rather than say how they really feel, they might say how they think they ought to feel based on logic.  E.g. I must...|||Ah, c'mon now! Stop exaggerating (even if it's for comic effect)!  My best friend is a married female ENTP so I will consult with her and may get back to you to disprove your claim!|||Well I guess most people are cordial and polite to acquaintances because cordial and polite = distant.  But sarcastic, teasing and tactlessly blunt?  That doesn't necessarily sound like 'being a...|||What???  You mean if I start a relationship with an ENTP, he's going to have a few friends waiting in the wings, ready to take my place? Not sure I like the sound of that. Better watch out for...|||Unemployment is stressful for anyone, but for a man (of any type) whose partner has a baby on the way and feels he ought to be the 'provider' for his partner and baby (as most men do) then multiply...|||purposive I know where you are coming from.    I'm  a very animated INFJ (clearly not all of us are) and I have an INTJ work colleague.  When I'm talking to her it's like we're so similar yet so...|||Yes, I can see what you're saying here.  With INTPs, I feel interested, engaged and amused.    With ENTPs, I feel the above plus energised, light, alive and completely myself.  To generalise,...|||Mystery is ISTP.  It's like somebody puts on the Internet that he's INFJ and it suddenly becomes 'fact'  But if you look at his body language and eyes, they are nothing like an INFJ's.  He is...|||So, go on, what's the connection between INFJs and Ewoks, then?  I'm sure you'd love to tell us :)|||Ok so here's another theory to throw into the mix:  Perhaps you are a more confident and secure person nowadays, so that you don't need to rely on external validation in order to feel good about...|||My mum is an INFP and my Dad is an ENTJ.  They have been together for 43 years.  They are really happy together and very close.  They are rarely apart from each other, especially now that they are...|||Your advice is interesting. I like it.  I was wondering if Ti users like ENTPs find it more difficult to work out what they want and therefore end up sometimes feeling bored, listless, disconnected...|||Probably they were INFJ cabbies!|||You seem to be saying that an INFJ might accuse someone of a weakness as an excuse to withdraw from a relationship, when the real reason they are withdrawing is because the relationship makes them...|||Rationally, I am tolerant of other's weaknesses, but irrationally I can still get irritated. But if I'm feeling irritated, I tell myself 'well, they just can't help being like that.     I work...|||I'm starting to realise that I'm a little less structured and 'J' than the average INFJ here.  Was brought up by INFP mum so that might explain it!|||Well, finally there's something we can all agree an INFJ would not say (I hope)|||I'm just one of those people who doesn't dream - or at least if I do, I can't remember them when I wake up|||Why? Don't tell me you like doing taxes!  Probably I'm the atypical INFJ.  I guess it just shows we're all different.|||(To the boss) Just tell me what you want me to do and precisely how I should go about it.  You don't need to worry my little head with the reasons behind or the purpose of the job.|||I had an interesting and fun morning going through my household budget, studying the monthly income and outgoings in great detail.|||I know that I am an INFJ because I know that my cognitive functions are Ni-Fe-Ti-Se in that order.  But where have we got the idea that INFJs perceive themselves as victims, enter into abusive...|||What about things like health spas, massages from masseurs, pedicures etc?  A lot of women talk about how they love to be 'pampered' but I'm really not into it.  It's like: 'You're invading my...|||I can relate to the situation the OP describes and I have clashed with an ESTJ at work a number of times.  They're just so different to INFJs and my habit of asking 'why' is perceived as a criticism....|||You say, I feel like I need to be impressive to be accepted. I think you summed up your whole post with this sentence.  I have no idea what MB type you are, but the main thing you have to deal...|||Like DiamondDays said, he sounds more NTJ to me.  Some NJs can test as NPs (myself included) because we're more organised and decisive in a long term, driven kind of way and less interested in making...|||What about following a pet theme like 'the dog ate it, the cat spat on it, the hamster used it as a blanket, the rabbit thought it was a carrot, a hedgehog hibernated in it...' something like that. ...|||My INFP friend's 16 year old ENTP daughter says that she hasn't done her homework/ course work because she's a 'kinaesthetic learner'!??  Well that's what she tells her mum. I've no idea what she...|||I keep asking these questions to all four of my ENTP friends.  One of them has let it be known that my persistent questioning about what jobs she would like to do when her kids are older (she's a...|||This is great! Explains it so well.   Also, the part about integrating Se in later life definitely applies to me. (I'm 41)|||For me, Fe seems like sharing emotions with others rather than delving too deeply in my own emotions.  So when I see other people feel sad, it makes me feel sad.  My everyday behaviour and my choice...|||I express superficial emotions like excitement, irritation, frustration, happiness easily and frequently and I sometimes even exaggerate them for dramatic effect!  But when it comes down to the...|||^ A prime example of the dangers of Ni overuse!!  Ok, I know you wrote it as a joke.  But really, you've clearly spent a long time fantasising about this.  Is that a good use of your time?  Or...|||*thinks* hmm....  Maybe it's not that people love to hate ENTPs but that ENTPs love to be hated!  You know - like how little kids play up and be naughty because being told off is still getting...|||Ooh DiamondDays, I really HATE you!    (Did you love that?)|||NTPs aren't annoying.  They're lovely :)  There's a lot more scope on the 'hate'  thread for debate. On the 'love' thread people say something complimentary about ENTPs, then ENTPs say 'Yeah I...|||The tests make me either a five or a two, but I relate more to the type 5 description.|||Actually, I'm not sure either which teaching areas are specifically Se.  I have two ESTP colleagues.  One is in charge of Art and the other is in charge of sport/ P.E.  So I guess probably it's that...|||If you've just started then this is the hardest time because you haven't got the experience to just 'wing it' from time to time.  Lots of things will just come automatic with experience so it will...|||I'm actually in the management side of things now, specialising in kids with learning or behavioural difficulties.  I get a nice balance between strategy, planning, analysis (Ni stuff) and direct...|||A 3 hour journey is a long way.  Ok, I understand now why you haven't yet met up.   Nevertheless, I hope that you manage to meet up with him in the not so distant future.  Personally, I don't trust...|||Sounds like you really ought to meet up with him, if only to bring you down to earth if it turns out that in real life he is not as great as you imagined him to be.  But you are a bit worried that if...|||Yes, but the potential for rejection, humiliation, embarrassment and awkwardness is huge if you're just going to be direct and ask out someone who has been a good friend for a long while.  Surely,...|||Sorry, I misunderstood.  I thought you meant her timing during the concert was bad.  I didn't realise you meant bad timing as in that point in your life.  So she has a boyfriend now? Well, I guess...'\",\n          \"'YES YES! XD I think I'd chose this power over any other. I would love to travel from the past to the future, slow time down and play around by switching things a bit in certain situations. Sometimes...|||Talking to animals and slowing down time! HELL YES! Those are awesome.. I want those powers too!  Slowing down time is perfect for ENFPs :D|||My guess is that if they were tidy, clean and organized they would have a much stronger J. I am neither of those things XD.|||Lol I personally don't see much of a trend with zodiac signs and mbti types. I am an Aquarius pisces cusp.. leaning much more towards aquarius (feb 16), cap moon, scorpio ascending and I am an ENFP....|||Wow! I can't read minds, but I'm good at sensing how others are feeling. Close enough? :p|||hahaha Im guessing I am an ENFP that cannot read minds :(  Invisibility is awesome, but I would want to be able to go through walls and stuff too by choice.. not like a ghost lol|||Agreed! She is wonderful, and yes I've been following her for quite a while now, she is definitely an ENFP :p|||Thought some of you younger ENFPs might like this video - Inner Beauty make-up tutorial. Its just simply brilliant and its not only for women.  Don't let the make-up tutorial in the title fool...|||I waited for my letter till I was about 13 - 14! I still had hopes up that there was a high school version of Hogwarts.   Yes, I would love to be invisible too! No restrictions and I can do...|||LOL I do try to move things with my hands too! And I keep failing xD And I would pick teleportation too, I would do anything to be by the beach at the moment. I've always wanted to fly too.. but I...|||Wow, thats a really good question!   Maybe you should post this on the baby boomer forum, I'm sure some of them might have had parents/ grandparents who they would have considered to be ENFPs who...|||Interesting question!   This is super easy for me. I would loose my ethnicity.   Personally I am not at all religious but I am becoming more and more spiritual. I am a third culture kid and I...|||Are you as delusional as me and grew up thinking that you were born to be some sort of superhero?  If you could have any one (or more) superpower[s], what would it be and why? :wink:|||Yes this too, contributes to my personally switches in my case :p|||I'm not just A or B, sometimes theres a C and D too XD  Most of the time it depends who I'm with or the day I'm having, or even how much sleep I've gotten.   I wouldn't call it split personality...|||Story of my life. Taking 5 hours to do a 10 minute task because I get so distracted. If its not physical then its mental.|||Haaha it does rhyme! XD And yes! who am I fooling - that's me when I think about reality. I detest the mundane things in life.. I don't know how long I can survive following society's rigid...|||Very true! ;D|||This sounds exactly like me! And I worry about the same thing too!  I just thought about this. Often times, when I give people a motivational speech, it is indirectly inspiring me in a way. So I...|||Story of my life! And thats why I'm sooo sleep deprived :(|||Aww :( sometimes I go through this too, but more recently I've been able to control my idealistic ideas around the SJs, TJs just to avoid looking stupid/ naive. Maybe because I often felt hurt as a...|||Typical ENFPs for going off topic :p    There are plenty of girls out there who are not into the cocky macho man, and yes, she will be pretty awesome ;)     Yes, go ENFPs! A lot of...|||This post is quite interesting, I'm only 20 so I don't have my lifelong experience to give input. Would love to hear about what these older ENFPs have observed though.|||Thats funny, I was quite different as a child. As a child I was not as curious, I was a lot more observant from afar, although I still remained very intuitive. In class for the most part I paid...|||Respect. Exactly why I love ENFP guys! :) I mean how much more true to yourself can you be! The whole issue with masculinity and femininity is so outdated, it should be updated to being human, with...|||HAHAHA I love how you refer to a realistic person as an obedient slave XD. I completely agree with it. NFPs  = HOPE.  Without the balance of kindness, values, morals, and our out of the box views,...|||Yes! People do underestimate us. I feel that although we are genuine for the most bit, but there are two sides of us. On the surface we are trusting, random, have crazy ideas, oblivious (I've been...|||Being an ENFP is like hope for the world. If it weren't for us, and other NFs, there would probably not be much balance in the world.    Some things I dislike about being an ENFP include:   -...|||I think that fear is by all means one of life's greatest obstacles. Nothing is stronger than the mind. For us ENFPs, its our 'amazing' ability to over think and over analyse everything that creates...|||Completely agree with this! As soon as I shut up and listen to someone's issues, I feel like inspiration just pours out of my mouth, and it comes out so naturally, almost like it is instinctive and...|||HAHAH so spot on, I've been doing that throughout this whole thread XD|||Not sure if its only me, but whenever I read the news (which I do often), if the story about a negative situation (e.g. more poaching for ivory), I always connect with the story too emotionally and...'\",\n          \"'Edit: INFP-  Not everything I say is about you! I'm not criticizing you, I'm criticizing the thing you happen to like!|||Female INTP  (Rounded)  Masculine: 46 Feminine: 38 Androgynous: 53|||Ahaha! Those are hypnagogic hallucinations. I hear a lot of them before I fall asleep.  Here are some of what my voices have said:  I was not disappointed in the sound of the instructions. ...|||I love clubbing, only after about 5 drinks.|||As a Ti-dom I have a strong urge to correct what I perceive as logically inconsistent. I can quickly identify what's true/false almost instinctively. Often, when I come across new information...|||I chose success, because I think I've attained enough of the others (other than selflessness), so now the last step is to beat my crippling apathy and put my skills to good use.|||They keep trying to tell me how I actually feel or what I actually think.  I live in a family of all ENFJs (save for one INFJ) and they all think they know me better than I know myself. It's...|||It helps only in the short-term. If I repress my feelings long enough, it ends in an outburst, and in some cases, I end up alienating others.   I'm unsure how to accept them because I reflexively...|||I have depression and generalized anxiety disorder. I mistyped as a Feeler for a while because of this|||I wish people would just silently positively acknowledge and admire me instead of gushing about it|||Men and women are different|||Full-blown conversation with yourself? I need to try that sometime for shits and giggles' sake...|||Hello, fellow unicorn!! Female INTP here. :tongue: Hope you enjoy it here!|||I don't mind fake nice, in fact, I prefer it. It shows you have at least some common decency, unless you're deliberately doing it to be manipulative. But if you're passively doing it, fine. It...|||Would J correlate with Type A, and P correlate with Type B? Have any studies been done about this?  I'm type A, but other INTPs I know strike me as Type Bs. Really, most perceivers I know are...|||I only talk to myself in my head.|||I would confront her, and if it doesn't stop, it's out of your hands (crappy pun intended), so just let her keep being a middle school bully, and point and laugh.|||I can relate. I don't have many things in common with people. Sometimes when I try to give my opinion or make a joke, I speak in abstractions and end up confusing those listening. I think it's hard...|||I want them to go away. They're so pointless. I bottle them up so much and rarely cry, but once in a while, if I'm in a fight with someone for example, it's impossible for me to explain myself or...|||The debate within my own head goes something like:  Wrong! Wrong! I must tell them they're wrong! It's no use But I really need to tell them they're wrong because they're wrong and it's my...|||I've seen a thread here some time ago about favorite words, so now I'd like to know, what are your least favorite words?  The following make me want to dive off a cliff in despair: ...|||I brood and mourn, until I experience an existential crisis so brutal and life-changing, that it loops around and I realize that being alone opens up countless opportunities and possibilities for the...|||What if everyone just..... just..... came together and.... loved each other *.* ~<3|||I like parties sometimes, but I actually default to reading to the point I can't even say I prefer it to them. It would be like saying I prefer breathing to parties.|||It was 3am once and I was watching something on Youtube, and someone left a comment that read kaka poo poo stinky pants and this somehow had me in tears in a sleep-deprived laughing fit. I showed...|||Other INTPs I know have this thing where they're very stoic and logical, until either something stupid makes them laugh like a child, or something sciency or food-related gets them super excited, and...|||I would try to embrace it since it's a part of you that you repress, being INTP (which never turns out well)- however, if you think it's clouding your judgment and driving you insane, when I'm in...|||Rain Green apple-scented candles Jasmine Coconut oil Book pages A newly-opened video game package Warm, clean laundry Fresh, homemade bread Brisket Lemon|||I had an INFP friend who would always bring up her physically and sexually abusive ex, expecting me and our mutual friends to pity her, but sometimes she would make random remarks about how...|||I'm trying to talk slower too, for the same reasons you are. It's probably an Ne thing, which, in its auxiliary position, would be as prominent as Ti in many situations. It varies, really, because...|||It's changed my life dramatically. There are parts of me I thought were flaws, when they aren't particularly: for example, not being one for noticing small details. I wondered why I couldn't just pay...|||I had pretty much the same problems with 2 (toxic) INFPs I knew and came to realize these are some of the exact things that will easily push their buttons with minimal effort.  - Tell them their...|||Slow down! I can't keep up with this conversation anymore! Also, you told me that story about 50 times already|||My dad is an INFJ and my mom is an ENFJ  We can have great conversations, but they're always pressuring me to express my emotions when I'd rather not.|||What's it like being Se-dominant?  How do you experience inferior Ni? How does it get in the way of Se?|||When I'm drunk, not only do I become more outgoing, but I find myself really loving anyone who crosses my path and I'm more conscious of the emotional atmosphere, basking in this mentality of...|||The ENTPs (ENFPs too) I've met don't put enough faith in past experience. I always find myself telling them, remember what happened the last time you did this? when they're about to repeat...|||This is a tough one and there was a point when I wondered if I were ENTP, and I asked myself if, generally, do I use ideas to feed my thinking (INTP), or do I use thinking to feed my ideas (ENTP)? I...|||When I first heard the phrase, if you believe yourself, you can do anything I took it literally and would constantly asked my parents, how do I believe in myself? and if I do, does that mean I'll...|||1. No, because despite my opinion of a person, chances are there are other people who value that person who would be devastated at their loss, and even if that weren't the case, everyone has the...|||Tea :). I'm not much of a coffee fan. Can't stand the taste.|||I hate feeling emotions and when I do, I desperately try to ignore them or at least detach from them. To let myself feel means to disturb my inner stability and ability to think clearly. If I have to...|||You have to read something over and over because you don't trust what you read first to be what you really saw|||People who will believe any illogical tripe just because it makes them feel good or because it will get them brownie points|||Obviously I'm not longing for my brain to be stored in an isolation tank, and I quite like being human, but sometimes when it comes time to manage my physical self (eating when I have to, not...|||OH GOD  That hippo is now the oracle|||I'm good at giving someone logical comfort as was stated already, but when it comes to warmth and emotional support, it's about as hard for me as doing a backflip forward.|||Definitely not lol. My Si is pitiful.|||When I'm grateful for something someone has done for me, in addition to saying thank you, I make a point that I really appreciate that they did it for me. I force myself to express it when I...|||22. I thought I did worse. Fun test though.'\"\n        ],\n        \"semantic_type\": \"\",\n        \"description\": \"\"\n      }\n    }\n  ]\n}"
            }
          },
          "metadata": {},
          "execution_count": 5
        }
      ],
      "source": [
        "# Read the MBTI dataset\n",
        "mbti = pd.read_csv('https://raw.githubusercontent.com/Explore-AI/Public-Data/master/Data/classification_sprint/mbti_train.csv')\n",
        "mbti.head()"
      ]
    },
    {
      "cell_type": "code",
      "execution_count": null,
      "metadata": {
        "colab": {
          "base_uri": "https://localhost:8080/"
        },
        "id": "KzM9ctRevp54",
        "outputId": "1bcd3a6a-1a86-4a42-ce2e-d3926251ea3f"
      },
      "outputs": [
        {
          "output_type": "stream",
          "name": "stdout",
          "text": [
            "['INFJ', 'ENTP', 'INTP', 'INTJ', 'ENTJ', 'ENFJ', 'INFP', 'ENFP', 'ISFP', 'ISTP', 'ISFJ', 'ISTJ', 'ESTP', 'ESFP', 'ESTJ', 'ESFJ']\n"
          ]
        }
      ],
      "source": [
        "# Print list of unique MBTI personality types\n",
        "type_labels = list(mbti.type.unique())\n",
        "print(type_labels)"
      ]
    },
    {
      "cell_type": "code",
      "execution_count": null,
      "metadata": {
        "colab": {
          "base_uri": "https://localhost:8080/",
          "height": 482
        },
        "id": "RnTtP5lWv-Wd",
        "outputId": "b36a53a0-2e32-4bc2-ced7-07db22ef8b00"
      },
      "outputs": [
        {
          "output_type": "display_data",
          "data": {
            "text/plain": [
              "<Figure size 640x480 with 1 Axes>"
            ],
            "image/png": "[encoded data removed]"
          },
          "metadata": {}
        }
      ],
      "source": [
        "mbti['type'].value_counts().plot(kind = 'bar')\n",
        "plt.show()"
      ]
    },
    {
      "cell_type": "code",
      "execution_count": null,
      "metadata": {
        "id": "lvvM2v-6wEX9"
      },
      "outputs": [],
      "source": [
        "# Separate each post in the 'posts' column into its own row\n",
        "all_mbti = []\n",
        "for i, row in mbti.iterrows():\n",
        "    for post in row['posts'].split('|||'):\n",
        "        all_mbti.append([row['type'], post])\n",
        "all_mbti = pd.DataFrame(all_mbti, columns=['type', 'post'])"
      ]
    },
    {
      "cell_type": "code",
      "execution_count": null,
      "metadata": {
        "colab": {
          "base_uri": "https://localhost:8080/"
        },
        "id": "2AvRqOZ8wTa5",
        "outputId": "dafa028c-7496-4705-beb6-178989d92b3c"
      },
      "outputs": [
        {
          "output_type": "execute_result",
          "data": {
            "text/plain": [
              "(316548, 2)"
            ]
          },
          "metadata": {},
          "execution_count": 9
        }
      ],
      "source": [
        "all_mbti.shape"
      ]
    },
    {
      "cell_type": "code",
      "execution_count": null,
      "metadata": {
        "colab": {
          "base_uri": "https://localhost:8080/",
          "height": 482
        },
        "id": "VEiKL0eYwgjI",
        "outputId": "08160903-146e-43b1-ec25-4465bceaa040"
      },
      "outputs": [
        {
          "output_type": "display_data",
          "data": {
            "text/plain": [
              "<Figure size 640x480 with 1 Axes>"
            ],
            "image/png": "[encoded data removed]"
          },
          "metadata": {}
        }
      ],
      "source": [
        "all_mbti['type'].value_counts().plot(kind = 'bar')\n",
        "plt.show()"
      ]
    },
    {
      "cell_type": "code",
      "execution_count": null,
      "metadata": {
        "id": "ZOl25_RAwjjU"
      },
      "outputs": [],
      "source": [
        "# Text cleaning\n",
        "# Removing noise"
      ]
    },
    {
      "cell_type": "code",
      "execution_count": null,
      "metadata": {
        "id": "b2b8v56Uwtrx"
      },
      "outputs": [],
      "source": [
        "# Replace URLs in the 'post' column with a placeholder string\n",
        "pattern_url = r'http[s]?://(?:[A-Za-z]|[0-9]|[$-_@.&+]|[!*\\(\\),]|(?:%[0-9A-Fa-f][0-9A-Fa-f]))+'\n",
        "subs_url = r'url-web'\n",
        "all_mbti['post'] = all_mbti['post'].replace(to_replace = pattern_url, value = subs_url, regex = True)"
      ]
    },
    {
      "cell_type": "markdown",
      "metadata": {
        "id": "wqWzVjBrqJt_"
      },
      "source": [
        "**For the MBTI dataset, we will be doing the following:**\n",
        "\n",
        "*   Remove the web-urls.\n",
        "*   Make all the text lowercase.\n",
        "*   Remove punctuation\n",
        "\n"
      ]
    },
    {
      "cell_type": "code",
      "execution_count": null,
      "metadata": {
        "colab": {
          "base_uri": "https://localhost:8080/",
          "height": 206
        },
        "id": "BamiHEWgqIHm",
        "outputId": "4da96281-d4bd-40a7-e658-edc26fb987eb"
      },
      "outputs": [
        {
          "output_type": "execute_result",
          "data": {
            "text/plain": [
              "   type                                               post\n",
              "0  INFJ                                           'url-web\n",
              "1  INFJ                                            url-web\n",
              "2  INFJ  enfp and intj moments  url-web  sportscenter n...\n",
              "3  INFJ  What has been the most life-changing experienc...\n",
              "4  INFJ    url-web   url-web  On repeat for most of today."
            ],
            "text/html": [
              "\n",
              "  <div id=\"df-f91965b1-5ade-4926-ba26-0aedf31615e4\" class=\"colab-df-container\">\n",
              "    <div>\n",
              "<style scoped>\n",
              "    .dataframe tbody tr th:only-of-type {\n",
              "        vertical-align: middle;\n",
              "    }\n",
              "\n",
              "    .dataframe tbody tr th {\n",
              "        vertical-align: top;\n",
              "    }\n",
              "\n",
              "    .dataframe thead th {\n",
              "        text-align: right;\n",
              "    }\n",
              "</style>\n",
              "<table border=\"1\" class=\"dataframe\">\n",
              "  <thead>\n",
              "    <tr style=\"text-align: right;\">\n",
              "      <th></th>\n",
              "      <th>type</th>\n",
              "      <th>post</th>\n",
              "    </tr>\n",
              "  </thead>\n",
              "  <tbody>\n",
              "    <tr>\n",
              "      <th>0</th>\n",
              "      <td>INFJ</td>\n",
              "      <td>'url-web</td>\n",
              "    </tr>\n",
              "    <tr>\n",
              "      <th>1</th>\n",
              "      <td>INFJ</td>\n",
              "      <td>url-web</td>\n",
              "    </tr>\n",
              "    <tr>\n",
              "      <th>2</th>\n",
              "      <td>INFJ</td>\n",
              "      <td>enfp and intj moments  url-web  sportscenter n...</td>\n",
              "    </tr>\n",
              "    <tr>\n",
              "      <th>3</th>\n",
              "      <td>INFJ</td>\n",
              "      <td>What has been the most life-changing experienc...</td>\n",
              "    </tr>\n",
              "    <tr>\n",
              "      <th>4</th>\n",
              "      <td>INFJ</td>\n",
              "      <td>url-web   url-web  On repeat for most of today.</td>\n",
              "    </tr>\n",
              "  </tbody>\n",
              "</table>\n",
              "</div>\n",
              "    <div class=\"colab-df-buttons\">\n",
              "\n",
              "  <div class=\"colab-df-container\">\n",
              "    <button class=\"colab-df-convert\" onclick=\"convertToInteractive('df-f91965b1-5ade-4926-ba26-0aedf31615e4')\"\n",
              "            title=\"Convert this dataframe to an interactive table.\"\n",
              "            style=\"display:none;\">\n",
              "\n",
              "  <svg xmlns=\"http://www.w3.org/2000/svg\" height=\"24px\" viewBox=\"0 -960 960 960\">\n",
              "    <path d=\"M120-120v-720h720v720H120Zm60-500h600v-160H180v160Zm220 220h160v-160H400v160Zm0 220h160v-160H400v160ZM180-400h160v-160H180v160Zm440 0h160v-160H620v160ZM180-180h160v-160H180v160Zm440 0h160v-160H620v160Z\"/>\n",
              "  </svg>\n",
              "    </button>\n",
              "\n",
              "  <style>\n",
              "    .colab-df-container {\n",
              "      display:flex;\n",
              "      gap: 12px;\n",
              "    }\n",
              "\n",
              "    .colab-df-convert {\n",
              "      background-color: #E8F0FE;\n",
              "      border: none;\n",
              "      border-radius: 50%;\n",
              "      cursor: pointer;\n",
              "      display: none;\n",
              "      fill: #1967D2;\n",
              "      height: 32px;\n",
              "      padding: 0 0 0 0;\n",
              "      width: 32px;\n",
              "    }\n",
              "\n",
              "    .colab-df-convert:hover {\n",
              "      background-color: #E2EBFA;\n",
              "      box-shadow: 0px 1px 2px rgba(60, 64, 67, 0.3), 0px 1px 3px 1px rgba(60, 64, 67, 0.15);\n",
              "      fill: #174EA6;\n",
              "    }\n",
              "\n",
              "    .colab-df-buttons div {\n",
              "      margin-bottom: 4px;\n",
              "    }\n",
              "\n",
              "    [theme=dark] .colab-df-convert {\n",
              "      background-color: #3B4455;\n",
              "      fill: #D2E3FC;\n",
              "    }\n",
              "\n",
              "    [theme=dark] .colab-df-convert:hover {\n",
              "      background-color: #434B5C;\n",
              "      box-shadow: 0px 1px 3px 1px rgba(0, 0, 0, 0.15);\n",
              "      filter: drop-shadow(0px 1px 2px rgba(0, 0, 0, 0.3));\n",
              "      fill: #FFFFFF;\n",
              "    }\n",
              "  </style>\n",
              "\n",
              "    <script>\n",
              "      const buttonEl =\n",
              "        document.querySelector('#df-f91965b1-5ade-4926-ba26-0aedf31615e4 button.colab-df-convert');\n",
              "      buttonEl.style.display =\n",
              "        google.colab.kernel.accessAllowed ? 'block' : 'none';\n",
              "\n",
              "      async function convertToInteractive(key) {\n",
              "        const element = document.querySelector('#df-f91965b1-5ade-4926-ba26-0aedf31615e4');\n",
              "        const dataTable =\n",
              "          await google.colab.kernel.invokeFunction('convertToInteractive',\n",
              "                                                    [key], {});\n",
              "        if (!dataTable) return;\n",
              "\n",
              "        const docLinkHtml = 'Like what you see? Visit the ' +\n",
              "          '<a target=\"_blank\" href=https://colab.research.google.com/notebooks/data_table.ipynb>data table notebook</a>'\n",
              "          + ' to learn more about interactive tables.';\n",
              "        element.innerHTML = '';\n",
              "        dataTable['output_type'] = 'display_data';\n",
              "        await google.colab.output.renderOutput(dataTable, element);\n",
              "        const docLink = document.createElement('div');\n",
              "        docLink.innerHTML = docLinkHtml;\n",
              "        element.appendChild(docLink);\n",
              "      }\n",
              "    </script>\n",
              "  </div>\n",
              "\n",
              "\n",
              "<div id=\"df-712515a5-7d0b-468d-bb58-475614fbef8a\">\n",
              "  <button class=\"colab-df-quickchart\" onclick=\"quickchart('df-712515a5-7d0b-468d-bb58-475614fbef8a')\"\n",
              "            title=\"Suggest charts\"\n",
              "            style=\"display:none;\">\n",
              "\n",
              "<svg xmlns=\"http://www.w3.org/2000/svg\" height=\"24px\"viewBox=\"0 0 24 24\"\n",
              "     width=\"24px\">\n",
              "    <g>\n",
              "        <path d=\"M19 3H5c-1.1 0-2 .9-2 2v14c0 1.1.9 2 2 2h14c1.1 0 2-.9 2-2V5c0-1.1-.9-2-2-2zM9 17H7v-7h2v7zm4 0h-2V7h2v10zm4 0h-2v-4h2v4z\"/>\n",
              "    </g>\n",
              "</svg>\n",
              "  </button>\n",
              "\n",
              "<style>\n",
              "  .colab-df-quickchart {\n",
              "      --bg-color: #E8F0FE;\n",
              "      --fill-color: #1967D2;\n",
              "      --hover-bg-color: #E2EBFA;\n",
              "      --hover-fill-color: #174EA6;\n",
              "      --disabled-fill-color: #AAA;\n",
              "      --disabled-bg-color: #DDD;\n",
              "  }\n",
              "\n",
              "  [theme=dark] .colab-df-quickchart {\n",
              "      --bg-color: #3B4455;\n",
              "      --fill-color: #D2E3FC;\n",
              "      --hover-bg-color: #434B5C;\n",
              "      --hover-fill-color: #FFFFFF;\n",
              "      --disabled-bg-color: #3B4455;\n",
              "      --disabled-fill-color: #666;\n",
              "  }\n",
              "\n",
              "  .colab-df-quickchart {\n",
              "    background-color: var(--bg-color);\n",
              "    border: none;\n",
              "    border-radius: 50%;\n",
              "    cursor: pointer;\n",
              "    display: none;\n",
              "    fill: var(--fill-color);\n",
              "    height: 32px;\n",
              "    padding: 0;\n",
              "    width: 32px;\n",
              "  }\n",
              "\n",
              "  .colab-df-quickchart:hover {\n",
              "    background-color: var(--hover-bg-color);\n",
              "    box-shadow: 0 1px 2px rgba(60, 64, 67, 0.3), 0 1px 3px 1px rgba(60, 64, 67, 0.15);\n",
              "    fill: var(--button-hover-fill-color);\n",
              "  }\n",
              "\n",
              "  .colab-df-quickchart-complete:disabled,\n",
              "  .colab-df-quickchart-complete:disabled:hover {\n",
              "    background-color: var(--disabled-bg-color);\n",
              "    fill: var(--disabled-fill-color);\n",
              "    box-shadow: none;\n",
              "  }\n",
              "\n",
              "  .colab-df-spinner {\n",
              "    border: 2px solid var(--fill-color);\n",
              "    border-color: transparent;\n",
              "    border-bottom-color: var(--fill-color);\n",
              "    animation:\n",
              "      spin 1s steps(1) infinite;\n",
              "  }\n",
              "\n",
              "  @keyframes spin {\n",
              "    0% {\n",
              "      border-color: transparent;\n",
              "      border-bottom-color: var(--fill-color);\n",
              "      border-left-color: var(--fill-color);\n",
              "    }\n",
              "    20% {\n",
              "      border-color: transparent;\n",
              "      border-left-color: var(--fill-color);\n",
              "      border-top-color: var(--fill-color);\n",
              "    }\n",
              "    30% {\n",
              "      border-color: transparent;\n",
              "      border-left-color: var(--fill-color);\n",
              "      border-top-color: var(--fill-color);\n",
              "      border-right-color: var(--fill-color);\n",
              "    }\n",
              "    40% {\n",
              "      border-color: transparent;\n",
              "      border-right-color: var(--fill-color);\n",
              "      border-top-color: var(--fill-color);\n",
              "    }\n",
              "    60% {\n",
              "      border-color: transparent;\n",
              "      border-right-color: var(--fill-color);\n",
              "    }\n",
              "    80% {\n",
              "      border-color: transparent;\n",
              "      border-right-color: var(--fill-color);\n",
              "      border-bottom-color: var(--fill-color);\n",
              "    }\n",
              "    90% {\n",
              "      border-color: transparent;\n",
              "      border-bottom-color: var(--fill-color);\n",
              "    }\n",
              "  }\n",
              "</style>\n",
              "\n",
              "  <script>\n",
              "    async function quickchart(key) {\n",
              "      const quickchartButtonEl =\n",
              "        document.querySelector('#' + key + ' button');\n",
              "      quickchartButtonEl.disabled = true;  // To prevent multiple clicks.\n",
              "      quickchartButtonEl.classList.add('colab-df-spinner');\n",
              "      try {\n",
              "        const charts = await google.colab.kernel.invokeFunction(\n",
              "            'suggestCharts', [key], {});\n",
              "      } catch (error) {\n",
              "        console.error('Error during call to suggestCharts:', error);\n",
              "      }\n",
              "      quickchartButtonEl.classList.remove('colab-df-spinner');\n",
              "      quickchartButtonEl.classList.add('colab-df-quickchart-complete');\n",
              "    }\n",
              "    (() => {\n",
              "      let quickchartButtonEl =\n",
              "        document.querySelector('#df-712515a5-7d0b-468d-bb58-475614fbef8a button');\n",
              "      quickchartButtonEl.style.display =\n",
              "        google.colab.kernel.accessAllowed ? 'block' : 'none';\n",
              "    })();\n",
              "  </script>\n",
              "</div>\n",
              "\n",
              "    </div>\n",
              "  </div>\n"
            ],
            "application/vnd.google.colaboratory.intrinsic+json": {
              "type": "dataframe",
              "variable_name": "all_mbti"
            }
          },
          "metadata": {},
          "execution_count": 13
        }
      ],
      "source": [
        "all_mbti.head()"
      ]
    },
    {
      "cell_type": "code",
      "execution_count": null,
      "metadata": {
        "id": "S47peSOgqAGW"
      },
      "outputs": [],
      "source": [
        "#First we make all the text lowercase to remove some noise from capitalisation.\n",
        "all_mbti['post'] = all_mbti['post'].str.lower()"
      ]
    },
    {
      "cell_type": "markdown",
      "metadata": {
        "id": "viLcBfax3afz"
      },
      "source": []
    },
    {
      "cell_type": "code",
      "execution_count": null,
      "metadata": {
        "colab": {
          "base_uri": "https://localhost:8080/"
        },
        "id": "d_Q2sXRy3WXz",
        "outputId": "5d5e8b0b-491a-42a5-fc73-5d28b0af3361"
      },
      "outputs": [
        {
          "output_type": "stream",
          "name": "stdout",
          "text": [
            "!\"#$%&'()*+,-./:;<=>?@[\\]^_`{|}~\n"
          ]
        }
      ],
      "source": [
        "import string\n",
        "print(string.punctuation)"
      ]
    },
    {
      "cell_type": "code",
      "execution_count": null,
      "metadata": {
        "id": "0x1NOUq0xJMs"
      },
      "outputs": [],
      "source": [
        "def remove_punctuation(post):\n",
        "    return ''.join([l for l in post if l not in string.punctuation])"
      ]
    },
    {
      "cell_type": "code",
      "execution_count": null,
      "metadata": {
        "colab": {
          "base_uri": "https://localhost:8080/",
          "height": 53
        },
        "id": "l_32wXftxLGY",
        "outputId": "36acca91-8029-4231-e3f0-3b52eefdd971"
      },
      "outputs": [
        {
          "output_type": "execute_result",
          "data": {
            "text/plain": [
              "'just when i think i’ve lost you just when i’m so tired i toss away the fight and say “i’ll just embrace my demons then… ‘cause you feel so far away and i’ll never be your angel” —that’s when'"
            ],
            "application/vnd.google.colaboratory.intrinsic+json": {
              "type": "string"
            }
          },
          "metadata": {},
          "execution_count": 17
        }
      ],
      "source": [
        "all_mbti['post'] = all_mbti['post'].apply(remove_punctuation)\n",
        "all_mbti['post'].iloc[268558]"
      ]
    },
    {
      "cell_type": "markdown",
      "metadata": {
        "id": "C_RaCVCgxrRN"
      },
      "source": [
        "**Tokenisation**"
      ]
    },
    {
      "cell_type": "code",
      "execution_count": null,
      "metadata": {
        "id": "n7SdppETxvti"
      },
      "outputs": [],
      "source": [
        "from nltk.tokenize import word_tokenize, TreebankWordTokenizer"
      ]
    },
    {
      "cell_type": "code",
      "execution_count": null,
      "metadata": {
        "colab": {
          "base_uri": "https://localhost:8080/"
        },
        "id": "2dUJbnBozRNP",
        "outputId": "423e1c3f-45b8-4071-e8fd-369904a18452"
      },
      "outputs": [
        {
          "output_type": "execute_result",
          "data": {
            "text/plain": [
              "['A',\n",
              " 'tokenizer',\n",
              " 'divides',\n",
              " 'text',\n",
              " 'into',\n",
              " 'a',\n",
              " 'sequence',\n",
              " 'of',\n",
              " 'tokens',\n",
              " ',',\n",
              " 'which',\n",
              " 'roughly',\n",
              " 'correspond',\n",
              " 'to',\n",
              " '``',\n",
              " 'words',\n",
              " \"''\",\n",
              " '.']"
            ]
          },
          "metadata": {},
          "execution_count": 19
        }
      ],
      "source": [
        "word_tokenize('A tokenizer divides text into a sequence of tokens, which roughly correspond to \"words\".')"
      ]
    },
    {
      "cell_type": "code",
      "execution_count": null,
      "metadata": {
        "id": "d5Ljf-Cvzi31"
      },
      "outputs": [],
      "source": [
        "# Tokenise the text using the TreebankWordTokenizer (its much quicker)\n",
        "tokeniser = TreebankWordTokenizer()\n",
        "all_mbti['tokens'] = all_mbti['post'].apply(tokeniser.tokenize)"
      ]
    },
    {
      "cell_type": "code",
      "execution_count": null,
      "metadata": {
        "colab": {
          "base_uri": "https://localhost:8080/"
        },
        "id": "M3n4PJfdzuHt",
        "outputId": "488270bb-6b7e-48a2-c490-0f1cd7b972ab"
      },
      "outputs": [
        {
          "output_type": "execute_result",
          "data": {
            "text/plain": [
              "['i',\n",
              " 'find',\n",
              " 'all',\n",
              " 'of',\n",
              " 'you',\n",
              " 'to',\n",
              " 'be',\n",
              " 'extremely',\n",
              " 'humorous',\n",
              " 'now',\n",
              " 'to',\n",
              " 'find',\n",
              " 'other',\n",
              " 'specimen',\n",
              " 'to',\n",
              " 'observe']"
            ]
          },
          "metadata": {},
          "execution_count": 21
        }
      ],
      "source": [
        "all_mbti['tokens'].iloc[55555]"
      ]
    },
    {
      "cell_type": "markdown",
      "metadata": {
        "id": "7gEHs_65xnoJ"
      },
      "source": []
    },
    {
      "cell_type": "markdown",
      "metadata": {
        "id": "LzZh_C030GzJ"
      },
      "source": [
        "**Stemming**"
      ]
    },
    {
      "cell_type": "code",
      "execution_count": null,
      "metadata": {
        "id": "1JEaXafr0L7a"
      },
      "outputs": [],
      "source": [
        "from nltk import SnowballStemmer, PorterStemmer, LancasterStemmer"
      ]
    },
    {
      "cell_type": "code",
      "execution_count": null,
      "metadata": {
        "id": "_xgLTjmt0RNH"
      },
      "outputs": [],
      "source": [
        "words = 'caring cares cared caringly carefully'"
      ]
    },
    {
      "cell_type": "code",
      "execution_count": null,
      "metadata": {
        "id": "3xUvYJF_0UUo",
        "colab": {
          "base_uri": "https://localhost:8080/"
        },
        "outputId": "9cf3e6c0-5c4a-4348-ed74-c3a4e83cca3c"
      },
      "outputs": [
        {
          "output_type": "stream",
          "name": "stdout",
          "text": [
            "care\n",
            "care\n",
            "care\n",
            "care\n",
            "care\n"
          ]
        }
      ],
      "source": [
        "# find the stem of each word in words\n",
        "stemmer = SnowballStemmer('english')\n",
        "for word in words.split():\n",
        "    print(stemmer.stem(word))"
      ]
    },
    {
      "cell_type": "code",
      "source": [
        "def mbti_stemmer(words, stemmer):\n",
        "    return [stemmer.stem(word) for word in words]"
      ],
      "metadata": {
        "id": "gzaw0ZC2s99f"
      },
      "execution_count": null,
      "outputs": []
    },
    {
      "cell_type": "code",
      "source": [
        "all_mbti['stem'] = all_mbti['tokens'].apply(mbti_stemmer, args=(stemmer, ))"
      ],
      "metadata": {
        "id": "MpqpY9GUtLn_"
      },
      "execution_count": null,
      "outputs": []
    },
    {
      "cell_type": "code",
      "source": [
        "for i, t in enumerate(all_mbti.iloc[268702]['tokens']):\n",
        "    print ('{:20s} --> {:10s}'.format(t, all_mbti.iloc[268702]['stem'][i]))"
      ],
      "metadata": {
        "colab": {
          "base_uri": "https://localhost:8080/"
        },
        "id": "YnlqofzptVrL",
        "outputId": "1431921d-c175-4d7e-bf06-c4bc766143f2"
      },
      "execution_count": null,
      "outputs": [
        {
          "output_type": "stream",
          "name": "stdout",
          "text": [
            "i                    --> i         \n",
            "hate                 --> hate      \n",
            "april                --> april     \n",
            "fools                --> fool      \n",
            "day                  --> day       \n",
            "angry                --> angri     \n",
            "theres               --> there     \n",
            "a                    --> a         \n",
            "site                 --> site      \n",
            "im                   --> im        \n",
            "regularly            --> regular   \n",
            "on                   --> on        \n",
            "and                  --> and       \n",
            "the                  --> the       \n",
            "admins               --> admin     \n",
            "are                  --> are       \n",
            "screwing             --> screw     \n",
            "everything           --> everyth   \n",
            "up                   --> up        \n",
            "today                --> today     \n",
            "for                  --> for       \n",
            "a                    --> a         \n",
            "laugh                --> laugh     \n",
            "but                  --> but       \n",
            "i                    --> i         \n",
            "dont                 --> dont      \n",
            "find                 --> find      \n",
            "it                   --> it        \n",
            "funny                --> funni     \n",
            "im                   --> im        \n",
            "actually             --> actual    \n",
            "quite                --> quit      \n",
            "freaked              --> freak     \n",
            "out                  --> out       \n",
            "about                --> about     \n",
            "it                   --> it        \n"
          ]
        }
      ]
    },
    {
      "cell_type": "markdown",
      "source": [
        "**Lemmatization**"
      ],
      "metadata": {
        "id": "JWiM30qytcb2"
      }
    },
    {
      "cell_type": "code",
      "source": [
        "from nltk.stem import WordNetLemmatizer\n",
        "nltk.download('wordnet')\n",
        "\n",
        "lemmatizer = WordNetLemmatizer()\n",
        "\n",
        "print(lemmatizer.lemmatize(\"cats\"))\n",
        "print(lemmatizer.lemmatize(\"cacti\"))\n",
        "print(lemmatizer.lemmatize(\"geese\"))\n",
        "print(lemmatizer.lemmatize(\"rocks\"))\n",
        "print(lemmatizer.lemmatize(\"python\"))\n",
        "print(lemmatizer.lemmatize(\"better\", pos=\"a\"))\n",
        "print(lemmatizer.lemmatize(\"best\", pos=\"a\"))\n",
        "print(lemmatizer.lemmatize(\"run\"))\n",
        "print(lemmatizer.lemmatize(\"ran\",'v'))\n",
        "\n"
      ],
      "metadata": {
        "colab": {
          "base_uri": "https://localhost:8080/"
        },
        "id": "_DIhudndtpYX",
        "outputId": "be4517be-d245-4152-809b-13363b82819d"
      },
      "execution_count": null,
      "outputs": [
        {
          "output_type": "stream",
          "name": "stderr",
          "text": [
            "[nltk_data] Downloading package wordnet to /root/nltk_data...\n"
          ]
        },
        {
          "output_type": "stream",
          "name": "stdout",
          "text": [
            "cat\n",
            "cactus\n",
            "goose\n",
            "rock\n",
            "python\n",
            "good\n",
            "best\n",
            "run\n",
            "run\n"
          ]
        }
      ]
    },
    {
      "cell_type": "code",
      "source": [
        "def mbti_lemma(words, lemmatizer):\n",
        "    return [lemmatizer.lemmatize(word) for word in words]"
      ],
      "metadata": {
        "id": "ZDJHjUAnt1Z2"
      },
      "execution_count": null,
      "outputs": []
    },
    {
      "cell_type": "code",
      "source": [
        "all_mbti['lemma'] = all_mbti['tokens'].apply(mbti_lemma, args=(lemmatizer, ))"
      ],
      "metadata": {
        "id": "UGx_LdCwum9-"
      },
      "execution_count": null,
      "outputs": []
    },
    {
      "cell_type": "code",
      "source": [
        "for i, t in enumerate(all_mbti.iloc[268702]['tokens']):\n",
        "    print ('{:20s} --> {:10s}'.format(t, all_mbti.iloc[268702]['lemma'][i]))"
      ],
      "metadata": {
        "colab": {
          "base_uri": "https://localhost:8080/"
        },
        "id": "phbedIecuxbt",
        "outputId": "dde7c941-0ad3-462c-e898-dab84e629ced"
      },
      "execution_count": null,
      "outputs": [
        {
          "output_type": "stream",
          "name": "stdout",
          "text": [
            "i                    --> i         \n",
            "hate                 --> hate      \n",
            "april                --> april     \n",
            "fools                --> fool      \n",
            "day                  --> day       \n",
            "angry                --> angry     \n",
            "theres               --> there     \n",
            "a                    --> a         \n",
            "site                 --> site      \n",
            "im                   --> im        \n",
            "regularly            --> regularly \n",
            "on                   --> on        \n",
            "and                  --> and       \n",
            "the                  --> the       \n",
            "admins               --> admins    \n",
            "are                  --> are       \n",
            "screwing             --> screwing  \n",
            "everything           --> everything\n",
            "up                   --> up        \n",
            "today                --> today     \n",
            "for                  --> for       \n",
            "a                    --> a         \n",
            "laugh                --> laugh     \n",
            "but                  --> but       \n",
            "i                    --> i         \n",
            "dont                 --> dont      \n",
            "find                 --> find      \n",
            "it                   --> it        \n",
            "funny                --> funny     \n",
            "im                   --> im        \n",
            "actually             --> actually  \n",
            "quite                --> quite     \n",
            "freaked              --> freaked   \n",
            "out                  --> out       \n",
            "about                --> about     \n",
            "it                   --> it        \n"
          ]
        }
      ]
    },
    {
      "cell_type": "markdown",
      "source": [
        "**Stop words**"
      ],
      "metadata": {
        "id": "hcGyF921vPxO"
      }
    },
    {
      "cell_type": "code",
      "source": [
        "from nltk.corpus import stopwords\n",
        "print(stopwords.words('english'))"
      ],
      "metadata": {
        "colab": {
          "base_uri": "https://localhost:8080/"
        },
        "id": "PLk3K2mqvYiM",
        "outputId": "5cc1df4e-c8bf-41d5-ee5e-9c4626239a18"
      },
      "execution_count": null,
      "outputs": [
        {
          "output_type": "stream",
          "name": "stdout",
          "text": [
            "['i', 'me', 'my', 'myself', 'we', 'our', 'ours', 'ourselves', 'you', \"you're\", \"you've\", \"you'll\", \"you'd\", 'your', 'yours', 'yourself', 'yourselves', 'he', 'him', 'his', 'himself', 'she', \"she's\", 'her', 'hers', 'herself', 'it', \"it's\", 'its', 'itself', 'they', 'them', 'their', 'theirs', 'themselves', 'what', 'which', 'who', 'whom', 'this', 'that', \"that'll\", 'these', 'those', 'am', 'is', 'are', 'was', 'were', 'be', 'been', 'being', 'have', 'has', 'had', 'having', 'do', 'does', 'did', 'doing', 'a', 'an', 'the', 'and', 'but', 'if', 'or', 'because', 'as', 'until', 'while', 'of', 'at', 'by', 'for', 'with', 'about', 'against', 'between', 'into', 'through', 'during', 'before', 'after', 'above', 'below', 'to', 'from', 'up', 'down', 'in', 'out', 'on', 'off', 'over', 'under', 'again', 'further', 'then', 'once', 'here', 'there', 'when', 'where', 'why', 'how', 'all', 'any', 'both', 'each', 'few', 'more', 'most', 'other', 'some', 'such', 'no', 'nor', 'not', 'only', 'own', 'same', 'so', 'than', 'too', 'very', 's', 't', 'can', 'will', 'just', 'don', \"don't\", 'should', \"should've\", 'now', 'd', 'll', 'm', 'o', 're', 've', 'y', 'ain', 'aren', \"aren't\", 'couldn', \"couldn't\", 'didn', \"didn't\", 'doesn', \"doesn't\", 'hadn', \"hadn't\", 'hasn', \"hasn't\", 'haven', \"haven't\", 'isn', \"isn't\", 'ma', 'mightn', \"mightn't\", 'mustn', \"mustn't\", 'needn', \"needn't\", 'shan', \"shan't\", 'shouldn', \"shouldn't\", 'wasn', \"wasn't\", 'weren', \"weren't\", 'won', \"won't\", 'wouldn', \"wouldn't\"]\n"
          ]
        }
      ]
    },
    {
      "cell_type": "code",
      "source": [
        "sorted(stopwords.words('english'))[0:10]"
      ],
      "metadata": {
        "colab": {
          "base_uri": "https://localhost:8080/"
        },
        "id": "AmJQH3_8vgBL",
        "outputId": "c62cac6d-6985-43ed-8b73-0db6ea01a386"
      },
      "execution_count": null,
      "outputs": [
        {
          "output_type": "execute_result",
          "data": {
            "text/plain": [
              "['a', 'about', 'above', 'after', 'again', 'against', 'ain', 'all', 'am', 'an']"
            ]
          },
          "metadata": {},
          "execution_count": 33
        }
      ]
    },
    {
      "cell_type": "code",
      "source": [
        "def remove_stop_words(tokens):\n",
        "    return [t for t in tokens if t not in stopwords.words('english')]"
      ],
      "metadata": {
        "id": "Mc2K6R8pv6NN"
      },
      "execution_count": null,
      "outputs": []
    },
    {
      "cell_type": "code",
      "source": [
        "all_mbti['stem'] = all_mbti['tokens'].apply(remove_stop_words)\n",
        "all_mbti['stem']"
      ],
      "metadata": {
        "colab": {
          "base_uri": "https://localhost:8080/"
        },
        "id": "m1sS2w2evwvm",
        "outputId": "086865c7-0443-42d0-cadb-1c92cc084db7"
      },
      "execution_count": null,
      "outputs": [
        {
          "output_type": "execute_result",
          "data": {
            "text/plain": [
              "0                                                  [urlweb]\n",
              "1                                                  [urlweb]\n",
              "2         [enfp, intj, moments, urlweb, sportscenter, to...\n",
              "3                          [lifechanging, experience, life]\n",
              "4                           [urlweb, urlweb, repeat, today]\n",
              "                                ...                        \n",
              "316543    [kallinhausin, may, rooted, problem, infps, pr...\n",
              "316544    [regards, king, show, book, havent, read, book...\n",
              "316545         [sunlight, bouncing, fog, dawn, serendipity]\n",
              "316546                            [songs, really, powerful]\n",
              "316547                     [remember, werent, trying, hurt]\n",
              "Name: stem, Length: 316548, dtype: object"
            ]
          },
          "metadata": {},
          "execution_count": 35
        }
      ]
    },
    {
      "cell_type": "markdown",
      "source": [],
      "metadata": {
        "id": "8t-VcG1JvUCh"
      }
    },
    {
      "cell_type": "markdown",
      "source": [],
      "metadata": {
        "id": "-xnMrbDqvPvX"
      }
    },
    {
      "cell_type": "markdown",
      "source": [],
      "metadata": {
        "id": "nZoSbfO6vPtE"
      }
    }
  ],
  "metadata": {
    "colab": {
      "provenance": []
    },
    "kernelspec": {
      "display_name": "Python 3",
      "name": "python3"
    },
    "language_info": {
      "name": "python"
    }
  },
  "nbformat": 4,
  "nbformat_minor": 0
}